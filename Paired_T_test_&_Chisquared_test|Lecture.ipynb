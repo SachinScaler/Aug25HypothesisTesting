{
  "nbformat": 4,
  "nbformat_minor": 0,
  "metadata": {
    "colab": {
      "provenance": [],
      "authorship_tag": "ABX9TyNzzrsy2I0+5swzLSK/LOy1",
      "include_colab_link": true
    },
    "kernelspec": {
      "name": "python3",
      "display_name": "Python 3"
    },
    "language_info": {
      "name": "python"
    }
  },
  "cells": [
    {
      "cell_type": "markdown",
      "metadata": {
        "id": "view-in-github",
        "colab_type": "text"
      },
      "source": [
        "<a href=\"https://colab.research.google.com/github/SachinScaler/Aug25HypothesisTesting/blob/main/Paired_T_test_%26_Chisquared_test%7CLecture.ipynb\" target=\"_parent\"><img src=\"https://colab.research.google.com/assets/colab-badge.svg\" alt=\"Open In Colab\"/></a>"
      ]
    },
    {
      "cell_type": "code",
      "source": [],
      "metadata": {
        "id": "kadGwuGma6CJ"
      },
      "execution_count": null,
      "outputs": []
    },
    {
      "cell_type": "code",
      "execution_count": 11,
      "metadata": {
        "id": "wyLRNS1GXFuE"
      },
      "outputs": [],
      "source": [
        "import numpy as np\n",
        "import pandas as pd\n",
        "import seaborn as sns\n",
        "import matplotlib.pyplot as plt\n",
        "\n",
        "from scipy.stats import chisquare # Statistical test (chistat, pvalue)\n",
        "from scipy.stats import chi2"
      ]
    },
    {
      "cell_type": "code",
      "source": [
        "0.66*733"
      ],
      "metadata": {
        "colab": {
          "base_uri": "https://localhost:8080/"
        },
        "id": "A1y980q3a6tO",
        "outputId": "f4850bfd-e1e9-46a0-b799-76243100ced8"
      },
      "execution_count": 24,
      "outputs": [
        {
          "output_type": "execute_result",
          "data": {
            "text/plain": [
              "483.78000000000003"
            ]
          },
          "metadata": {},
          "execution_count": 24
        }
      ]
    },
    {
      "cell_type": "code",
      "source": [
        "0.66*174"
      ],
      "metadata": {
        "colab": {
          "base_uri": "https://localhost:8080/"
        },
        "id": "2GMFaoCGa6qz",
        "outputId": "d54b6151-e925-49fe-8a7d-9fe0b72ed4fe"
      },
      "execution_count": 25,
      "outputs": [
        {
          "output_type": "execute_result",
          "data": {
            "text/plain": [
              "114.84"
            ]
          },
          "metadata": {},
          "execution_count": 25
        }
      ]
    },
    {
      "cell_type": "code",
      "source": [
        "733-484"
      ],
      "metadata": {
        "colab": {
          "base_uri": "https://localhost:8080/"
        },
        "id": "ewofwfopa6oc",
        "outputId": "17f9db7a-d9f3-404c-b2fe-39f26605eba1"
      },
      "execution_count": 26,
      "outputs": [
        {
          "output_type": "execute_result",
          "data": {
            "text/plain": [
              "249"
            ]
          },
          "metadata": {},
          "execution_count": 26
        }
      ]
    },
    {
      "cell_type": "code",
      "source": [
        "174 - 115"
      ],
      "metadata": {
        "colab": {
          "base_uri": "https://localhost:8080/"
        },
        "id": "iLC6XC8na6cf",
        "outputId": "96bb7a7a-7f8c-413f-faa0-5ce08c483838"
      },
      "execution_count": 27,
      "outputs": [
        {
          "output_type": "execute_result",
          "data": {
            "text/plain": [
              "59"
            ]
          },
          "metadata": {},
          "execution_count": 27
        }
      ]
    },
    {
      "cell_type": "code",
      "source": [
        "# manual chi2 test\n",
        "chi2_stat = (25-28)**2/25 +   (25-22)**2/25\n",
        "chi2_stat"
      ],
      "metadata": {
        "colab": {
          "base_uri": "https://localhost:8080/"
        },
        "id": "JZf3g6UPYJL2",
        "outputId": "2c7ccdce-f2bb-4b82-895a-3f4447dba7e4"
      },
      "execution_count": 19,
      "outputs": [
        {
          "output_type": "execute_result",
          "data": {
            "text/plain": [
              "0.72"
            ]
          },
          "metadata": {},
          "execution_count": 19
        }
      ]
    },
    {
      "cell_type": "code",
      "source": [
        "p_val = 1 - chi2.cdf(chi2_stat, 1) # df=1\n",
        "print(p_val)\n",
        "alpha = 0.05\n",
        "\n",
        "if p_val < alpha:\n",
        "    print(\"Reject H0\")\n",
        "    print(\"Coin is baised\")\n",
        "else:\n",
        "    print(\"Fail to reject H0\")\n",
        "    print(\"Coin is fair\")"
      ],
      "metadata": {
        "colab": {
          "base_uri": "https://localhost:8080/"
        },
        "id": "OiwkUWFDZCZq",
        "outputId": "b8bed22c-3da4-4065-c3e8-f9baf820cbb5"
      },
      "execution_count": 20,
      "outputs": [
        {
          "output_type": "stream",
          "name": "stdout",
          "text": [
            "0.3961439091520741\n",
            "Fail to reject H0\n",
            "Coin is fair\n"
          ]
        }
      ]
    },
    {
      "cell_type": "code",
      "source": [
        "# using scipy package\n",
        "from scipy.stats import chisquare\n",
        "\n",
        "chi_stat, p_value = chisquare(\n",
        "    [28, 22], # Observed or actual\n",
        "    [25, 25], # Expected\n",
        ")\n",
        "print(\"p_value:\",p_value)\n",
        "print(\"chi_stat:\",chi_stat)"
      ],
      "metadata": {
        "colab": {
          "base_uri": "https://localhost:8080/"
        },
        "id": "rmC9wlhsXkPd",
        "outputId": "e5e2869f-7718-49bd-b675-b8895ac8d222"
      },
      "execution_count": 21,
      "outputs": [
        {
          "output_type": "stream",
          "name": "stdout",
          "text": [
            "p_value: 0.3961439091520741\n",
            "chi_stat: 0.72\n"
          ]
        }
      ]
    },
    {
      "cell_type": "code",
      "source": [
        "if p_val < alpha:\n",
        "    print(\"Reject H0\")\n",
        "    print(\"Coin is baised\")\n",
        "else:\n",
        "    print(\"Fail to reject H0\")\n",
        "    print(\"Coin is fair\")"
      ],
      "metadata": {
        "colab": {
          "base_uri": "https://localhost:8080/"
        },
        "id": "qQDJEVwWXnBn",
        "outputId": "63c6852f-4354-4ad3-d5dc-83b594b33cdb"
      },
      "execution_count": 22,
      "outputs": [
        {
          "output_type": "stream",
          "name": "stdout",
          "text": [
            "Fail to reject H0\n",
            "Coin is fair\n"
          ]
        }
      ]
    },
    {
      "cell_type": "markdown",
      "source": [
        "### Chi2"
      ],
      "metadata": {
        "id": "JKJCKnmf307J"
      }
    },
    {
      "cell_type": "code",
      "source": [
        "observed = [\n",
        "    [527, 72],\n",
        "    [206, 102]]\n",
        "\n",
        "\n",
        "from scipy.stats import chi2_contingency\n",
        "\n",
        "\n",
        "chi_stat, p_value, df, expected_freq = chi2_contingency(observed)\n",
        "\n",
        "print(\"Chi_stat\", chi_stat)\n",
        "print(\"p_value\", p_value)\n",
        "print(\"df\", df)\n",
        "print(\"expected_freq\", expected_freq)"
      ],
      "metadata": {
        "colab": {
          "base_uri": "https://localhost:8080/"
        },
        "id": "-MYgKSAvZWGJ",
        "outputId": "403cb658-5807-4d6e-9845-adbebf0c8885"
      },
      "execution_count": 29,
      "outputs": [
        {
          "output_type": "stream",
          "name": "stdout",
          "text": [
            "Chi_stat 57.04098674049609\n",
            "p_value 4.268230756875865e-14\n",
            "df 1\n",
            "expected_freq [[484.08710033 114.91289967]\n",
            " [248.91289967  59.08710033]]\n"
          ]
        }
      ]
    },
    {
      "cell_type": "code",
      "source": [
        "alpha = 0.05\n",
        "\n",
        "if p_value < alpha:\n",
        "    print(\"Reject H0\")\n",
        "    print(\"Gender and preference are not independent\")\n",
        "else:\n",
        "    print(\"Fail to reject H0\")\n",
        "    print(\"Gender and preference are independent\")\n"
      ],
      "metadata": {
        "colab": {
          "base_uri": "https://localhost:8080/"
        },
        "id": "xdoakQ1s39l7",
        "outputId": "727fb865-0212-4e3e-d73f-bd7ee269bf0a"
      },
      "execution_count": 30,
      "outputs": [
        {
          "output_type": "stream",
          "name": "stdout",
          "text": [
            "Reject H0\n",
            "Gender and preference are not independent\n"
          ]
        }
      ]
    },
    {
      "cell_type": "code",
      "source": [],
      "metadata": {
        "id": "WlvklJja4Tpf"
      },
      "execution_count": null,
      "outputs": []
    }
  ]
}