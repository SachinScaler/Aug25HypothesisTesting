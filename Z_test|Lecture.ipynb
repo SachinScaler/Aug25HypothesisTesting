{
  "nbformat": 4,
  "nbformat_minor": 0,
  "metadata": {
    "colab": {
      "provenance": [],
      "authorship_tag": "ABX9TyOeo+vc/jyS8HvBCh9xXhmt",
      "include_colab_link": true
    },
    "kernelspec": {
      "name": "python3",
      "display_name": "Python 3"
    },
    "language_info": {
      "name": "python"
    }
  },
  "cells": [
    {
      "cell_type": "markdown",
      "metadata": {
        "id": "view-in-github",
        "colab_type": "text"
      },
      "source": [
        "<a href=\"https://colab.research.google.com/github/SachinScaler/Aug25HypothesisTesting/blob/main/Z_test%7CLecture.ipynb\" target=\"_parent\"><img src=\"https://colab.research.google.com/assets/colab-badge.svg\" alt=\"Open In Colab\"/></a>"
      ]
    },
    {
      "cell_type": "markdown",
      "source": [
        "Important Links to Bookmark\n",
        "Git Repo For Current Module: https://github.com/SachinScaler/Aug25HypothesisTesting\n",
        "\n",
        "Whatsapp Group Link:\n",
        "https://chat.whatsapp.com/D91hw5Vxd4sArdEJ5OugVJ"
      ],
      "metadata": {
        "id": "utbQrYR1rb5h"
      }
    },
    {
      "cell_type": "code",
      "execution_count": 136,
      "metadata": {
        "colab": {
          "base_uri": "https://localhost:8080/"
        },
        "id": "Dafs1AD_qtc9",
        "outputId": "a511e12c-2a4d-4108-c5ed-e57e7a846e48"
      },
      "outputs": [
        {
          "output_type": "stream",
          "name": "stdout",
          "text": [
            "3.5355339059327378\n"
          ]
        }
      ],
      "source": [
        "import numpy as np\n",
        "from scipy.stats import norm\n",
        "\n",
        "# firm A: n = 50\n",
        "SE_A = 100 / np.sqrt(50)\n",
        "z = (1850 - 1800)/ SE_A\n",
        "print(z)"
      ]
    },
    {
      "cell_type": "code",
      "source": [
        "norm.cdf(z) # of observing value less than or equal to 1850"
      ],
      "metadata": {
        "colab": {
          "base_uri": "https://localhost:8080/"
        },
        "id": "AiV_zu4VrSV1",
        "outputId": "8fe7cc2e-6434-4426-e498-91004acdfded"
      },
      "execution_count": 137,
      "outputs": [
        {
          "output_type": "execute_result",
          "data": {
            "text/plain": [
              "np.float64(0.9997965239912775)"
            ]
          },
          "metadata": {},
          "execution_count": 137
        }
      ]
    },
    {
      "cell_type": "code",
      "source": [
        "p_val =1 - norm.cdf(z) # prob of observing values as extreme as 1850 given null hypothesis\n",
        "\n",
        "p_val"
      ],
      "metadata": {
        "colab": {
          "base_uri": "https://localhost:8080/"
        },
        "id": "LIVcDkqLrSSm",
        "outputId": "eb9a5b2a-9150-4ea4-8a55-6fbd5c5f35c8"
      },
      "execution_count": 138,
      "outputs": [
        {
          "output_type": "execute_result",
          "data": {
            "text/plain": [
              "np.float64(0.00020347600872250293)"
            ]
          },
          "metadata": {},
          "execution_count": 138
        }
      ]
    },
    {
      "cell_type": "code",
      "source": [
        "alpha = 0.01\n",
        "print(\"Firm A\")\n",
        "if p_val < alpha:\n",
        "  print(\"Reject the null hypothesis. Average sale is not 1800\")\n",
        "else:\n",
        "  print(\"Fail to Reject the null hypothesis\")\n"
      ],
      "metadata": {
        "colab": {
          "base_uri": "https://localhost:8080/"
        },
        "id": "wmk3GulzrSQG",
        "outputId": "72468280-de86-4f9b-8112-ffb60b272569"
      },
      "execution_count": 139,
      "outputs": [
        {
          "output_type": "stream",
          "name": "stdout",
          "text": [
            "Firm A\n",
            "Reject the null hypothesis. Average sale is not 1800\n"
          ]
        }
      ]
    },
    {
      "cell_type": "code",
      "source": [
        "import numpy as np\n",
        "from scipy.stats import norm\n",
        "\n",
        "print(\"Firm B\")\n",
        "\n",
        "\n",
        "# firm B: n = 5\n",
        "SE_B = 100 / np.sqrt(5)\n",
        "z = (1900 - 1800)/ SE_B\n",
        "\n",
        "\n",
        "p_val = 1 - norm.cdf(z) # prob of observing values as extreme as 1850 given null hypothesis\n",
        "print(p_val)\n",
        "alpha = 0.01 # risk of False Positive\n",
        "if p_val < alpha:\n",
        "  print(\"Reject the null hypothesis\")\n",
        "else:\n",
        "  print(\"Fail to Reject the null hypothesis\")"
      ],
      "metadata": {
        "colab": {
          "base_uri": "https://localhost:8080/"
        },
        "id": "MpIkxrcKrSNp",
        "outputId": "e4fdb436-032b-497a-dd00-d2c7f127d689"
      },
      "execution_count": 140,
      "outputs": [
        {
          "output_type": "stream",
          "name": "stdout",
          "text": [
            "Firm B\n",
            "0.0126736593387341\n",
            "Fail to Reject the null hypothesis\n"
          ]
        }
      ]
    },
    {
      "cell_type": "code",
      "source": [
        "import numpy as np\n",
        "from scipy.stats import norm\n",
        "\n",
        "population_mean =  8000 # average steps per day\n",
        "population_std_dev = 1200  # standard deviation\n",
        "sample_size = 30  # sample size\n",
        "sample_mean = 7600  # sample mean\n",
        "alpha = 0.05 # significance level\n",
        "\n",
        "SE = population_std_dev / np.sqrt(sample_size)\n",
        "z_score = (sample_mean - population_mean) / SE\n",
        "\n",
        "z_score, norm.cdf(z_score)"
      ],
      "metadata": {
        "colab": {
          "base_uri": "https://localhost:8080/"
        },
        "id": "ivxAOa0ArSLT",
        "outputId": "c8d24644-09a6-480b-cb98-e15e0725d5a9"
      },
      "execution_count": 141,
      "outputs": [
        {
          "output_type": "execute_result",
          "data": {
            "text/plain": [
              "(np.float64(-1.8257418583505536), np.float64(0.033944577430914516))"
            ]
          },
          "metadata": {},
          "execution_count": 141
        }
      ]
    },
    {
      "cell_type": "code",
      "source": [
        "p_val = norm.cdf(z_score)\n",
        "print(p_val)\n",
        "\n",
        "if p_val < alpha:\n",
        "  print(\"Reject the null hypothesis\")\n",
        "else:\n",
        "  print(\"Fail to Reject the null hypothesis\")"
      ],
      "metadata": {
        "colab": {
          "base_uri": "https://localhost:8080/"
        },
        "id": "_AQQ9lQHrSI9",
        "outputId": "fe5e7f22-582a-4490-a6ff-4074bbb58dc6"
      },
      "execution_count": 142,
      "outputs": [
        {
          "output_type": "stream",
          "name": "stdout",
          "text": [
            "0.033944577430914516\n",
            "Reject the null hypothesis\n"
          ]
        }
      ]
    },
    {
      "cell_type": "code",
      "source": [
        "alpha = 0.01\n",
        "p_val = norm.cdf(z_score)\n",
        "print(p_val)\n",
        "\n",
        "if p_val < alpha:\n",
        "  print(\"Reject the null hypothesis\")\n",
        "else:\n",
        "  print(\"Fail to Reject the null hypothesis\")"
      ],
      "metadata": {
        "colab": {
          "base_uri": "https://localhost:8080/"
        },
        "id": "WjkAewParSGn",
        "outputId": "4f397f58-1141-4c17-aff4-bc16bbae7f4e"
      },
      "execution_count": 143,
      "outputs": [
        {
          "output_type": "stream",
          "name": "stdout",
          "text": [
            "0.033944577430914516\n",
            "Fail to Reject the null hypothesis\n"
          ]
        }
      ]
    },
    {
      "cell_type": "code",
      "source": [],
      "metadata": {
        "id": "hFprF7cqG9FL"
      },
      "execution_count": 143,
      "outputs": []
    },
    {
      "cell_type": "code",
      "source": [
        "z = norm.ppf(0.99)\n",
        "z"
      ],
      "metadata": {
        "colab": {
          "base_uri": "https://localhost:8080/"
        },
        "id": "hdZ4it2CG9Cu",
        "outputId": "ac74ccf3-9fc2-4bf1-b728-c994a7e9eede"
      },
      "execution_count": 144,
      "outputs": [
        {
          "output_type": "execute_result",
          "data": {
            "text/plain": [
              "np.float64(2.3263478740408408)"
            ]
          },
          "metadata": {},
          "execution_count": 144
        }
      ]
    },
    {
      "cell_type": "code",
      "source": [
        "x = (z*(100/np.sqrt(50))) + 1800\n",
        "x"
      ],
      "metadata": {
        "colab": {
          "base_uri": "https://localhost:8080/"
        },
        "id": "DqD6AL20G9AZ",
        "outputId": "07b6250a-23f2-4c29-faa5-cf846cac0814"
      },
      "execution_count": 145,
      "outputs": [
        {
          "output_type": "execute_result",
          "data": {
            "text/plain": [
              "np.float64(1832.8995271426638)"
            ]
          },
          "metadata": {},
          "execution_count": 145
        }
      ]
    },
    {
      "cell_type": "code",
      "source": [
        "x = (z*(100/np.sqrt(5))) + 1800\n",
        "x"
      ],
      "metadata": {
        "colab": {
          "base_uri": "https://localhost:8080/"
        },
        "id": "vCajrt7hG83B",
        "outputId": "2c59b77b-e572-446f-8a85-768e83bfc413"
      },
      "execution_count": 146,
      "outputs": [
        {
          "output_type": "execute_result",
          "data": {
            "text/plain": [
              "np.float64(1904.0374397133487)"
            ]
          },
          "metadata": {},
          "execution_count": 146
        }
      ]
    },
    {
      "cell_type": "code",
      "source": [
        "z = norm.ppf(0.95)\n",
        "z"
      ],
      "metadata": {
        "colab": {
          "base_uri": "https://localhost:8080/"
        },
        "id": "HrfNWVKHrSEH",
        "outputId": "34f26795-7618-4b66-99c9-21d98ff7e521"
      },
      "execution_count": 147,
      "outputs": [
        {
          "output_type": "execute_result",
          "data": {
            "text/plain": [
              "np.float64(1.6448536269514722)"
            ]
          },
          "metadata": {},
          "execution_count": 147
        }
      ]
    },
    {
      "cell_type": "code",
      "source": [
        "X = ((z)*15) + 60\n",
        "X"
      ],
      "metadata": {
        "colab": {
          "base_uri": "https://localhost:8080/"
        },
        "id": "QwF3Lz_krSBr",
        "outputId": "d92463ac-c28f-4f90-cd70-625a32a1233b"
      },
      "execution_count": 148,
      "outputs": [
        {
          "output_type": "execute_result",
          "data": {
            "text/plain": [
              "np.float64(84.67280440427209)"
            ]
          },
          "metadata": {},
          "execution_count": 148
        }
      ]
    },
    {
      "cell_type": "code",
      "source": [
        "X =  60 -((z)*15)\n",
        "X"
      ],
      "metadata": {
        "colab": {
          "base_uri": "https://localhost:8080/"
        },
        "id": "cEN6SYORIuGy",
        "outputId": "135e92c0-f3c6-4230-9ce1-2d0da8d43b40"
      },
      "execution_count": 149,
      "outputs": [
        {
          "output_type": "execute_result",
          "data": {
            "text/plain": [
              "np.float64(35.327195595727915)"
            ]
          },
          "metadata": {},
          "execution_count": 149
        }
      ]
    },
    {
      "cell_type": "code",
      "source": [],
      "metadata": {
        "id": "5qKxWlxvIuEF"
      },
      "execution_count": 149,
      "outputs": []
    },
    {
      "cell_type": "code",
      "source": [
        "import numpy as np\n",
        "from scipy.stats import norm\n",
        "\n",
        "# Given data\n",
        "population_mean = 1800\n",
        "sample_mean = 1850\n",
        "population_stddev = 100\n",
        "sample_size = np.sqrt(50)\n",
        "alpha = 0.01  # Significance level (1 - alpha will give us the confidence level)"
      ],
      "metadata": {
        "id": "eezb00A_IuBv"
      },
      "execution_count": 150,
      "outputs": []
    },
    {
      "cell_type": "code",
      "source": [
        "# Calculate the critical value (Z) for a right-tailed test at the given alpha level\n",
        "z_critical = norm.ppf(1 - alpha/2)"
      ],
      "metadata": {
        "id": "eAtJiJTWIt_I"
      },
      "execution_count": 151,
      "outputs": []
    },
    {
      "cell_type": "code",
      "source": [
        "margin_of_error = z_critical * (population_stddev / sample_size)\n",
        "margin_of_error"
      ],
      "metadata": {
        "colab": {
          "base_uri": "https://localhost:8080/"
        },
        "id": "UigkXYEtIt8w",
        "outputId": "d709259f-125f-473e-ee39-791f2032e084"
      },
      "execution_count": 152,
      "outputs": [
        {
          "output_type": "execute_result",
          "data": {
            "text/plain": [
              "np.float64(36.42772735436898)"
            ]
          },
          "metadata": {},
          "execution_count": 152
        }
      ]
    },
    {
      "cell_type": "code",
      "source": [
        "confidence_interval = (sample_mean - margin_of_error, sample_mean + margin_of_error)\n",
        "confidence_interval"
      ],
      "metadata": {
        "colab": {
          "base_uri": "https://localhost:8080/"
        },
        "id": "EyxMumqNIt6Q",
        "outputId": "bad0738b-4b46-4f5c-9aa5-0fd60a24e3c8"
      },
      "execution_count": 153,
      "outputs": [
        {
          "output_type": "execute_result",
          "data": {
            "text/plain": [
              "(np.float64(1813.572272645631), np.float64(1886.427727354369))"
            ]
          },
          "metadata": {},
          "execution_count": 153
        }
      ]
    },
    {
      "cell_type": "code",
      "source": [
        "population_mean"
      ],
      "metadata": {
        "colab": {
          "base_uri": "https://localhost:8080/"
        },
        "id": "irMMnvzGKynC",
        "outputId": "c57b455b-4570-43d2-f933-8f9322d05c0d"
      },
      "execution_count": 154,
      "outputs": [
        {
          "output_type": "execute_result",
          "data": {
            "text/plain": [
              "1800"
            ]
          },
          "metadata": {},
          "execution_count": 154
        }
      ]
    },
    {
      "cell_type": "code",
      "source": [
        "lower_bound = confidence_interval[0]\n",
        "upper_bound = confidence_interval[1]\n",
        "\n",
        "if lower_bound <= population_mean <= upper_bound:\n",
        "    print(\"The population mean falls within the confidence interval. Then we fail to reject the null hypothesis\")\n",
        "else:\n",
        "    print(\"The population mean does not fall within the confidence interval. Then we reject the null hypothesis\")\n"
      ],
      "metadata": {
        "colab": {
          "base_uri": "https://localhost:8080/"
        },
        "id": "NEkaj7whKbpT",
        "outputId": "473f623f-981b-49ca-a3bd-5969b4e76062"
      },
      "execution_count": 155,
      "outputs": [
        {
          "output_type": "stream",
          "name": "stdout",
          "text": [
            "The population mean does not fall within the confidence interval. Then we reject the null hypothesis\n"
          ]
        }
      ]
    },
    {
      "cell_type": "markdown",
      "source": [
        "### Power and Effect Size\n",
        "```\n",
        "Imagine you are a quality control manager at a chocolate factory.\n",
        "\n",
        "You're responsible for ensuring that the average weight of chocolate bars produced in your factory meets a certain standard.\n",
        "\n",
        "The **standard weight** of a chocolate bar is **50 grams**, and it rarely deviates, with a known population **standard deviation** of **2 grams**.\n",
        "\n",
        "To maintain the quality of your chocolate bars, you collect a **sample** of **30 bars** every day and weigh them.\n",
        "You want to know if your production process is still on track and that the average weight of the chocolate bars is 50 grams.\n",
        "\n",
        "You set the significance level (α) to 0.05, and you want to calculate the power of your quality control test.\n",
        "\n",
        "data = [55, 45, 52, 48, 55, 52, 52, 53, 48, 52, 53, 47, 54, 51, 52, 51, 48, 52, 53, 54, 51, 51, 52, 54, 47, 52, 53, 48, 51, 54]\n",
        "```"
      ],
      "metadata": {
        "id": "Jfqi7aH3qvMi"
      }
    },
    {
      "cell_type": "code",
      "source": [
        "import numpy as np\n",
        "from scipy import stats\n",
        "from statsmodels.stats import power\n",
        "\n",
        "# Given data\n",
        "data = [55, 45, 52, 48, 55, 52, 52, 53, 48, 52, 53, 47, 54, 51, 52, 51, 48, 52, 53, 54, 51, 51, 52, 54, 47, 52, 53, 48, 51, 54]\n",
        "\n",
        "alpha = 0.05  # Significance level (for a two-tailed test)\n",
        "confidence_level = 1 - (alpha / 2)  # 95% confidence level\n",
        "sample_size = len(data)  # Number of chocolate bars in the sample\n",
        "\n",
        "# Calculate the z-critical value for a 5% significance level (as you did previously)\n",
        "z_critical = np.abs(round(stats.norm.ppf(1 - alpha/2), 4))\n",
        "\n",
        "print(\"Sample Size\", len(data))"
      ],
      "metadata": {
        "colab": {
          "base_uri": "https://localhost:8080/"
        },
        "id": "oAUSjOhOqwFG",
        "outputId": "7702e094-41d7-4f54-d7bf-f834cf2e247e"
      },
      "execution_count": 156,
      "outputs": [
        {
          "output_type": "stream",
          "name": "stdout",
          "text": [
            "Sample Size 30\n"
          ]
        }
      ]
    },
    {
      "cell_type": "code",
      "source": [
        "# Null hypothesis value (standard weight)\n",
        "hypo_mean = 50"
      ],
      "metadata": {
        "id": "U2oE1nJwqz0c"
      },
      "execution_count": 157,
      "outputs": []
    },
    {
      "cell_type": "code",
      "source": [
        "# Calculate the sample mean (average weight of the chocolate bars)\n",
        "samp_mean = np.mean(data)\n",
        "\n",
        "samp_std = np.std(data)"
      ],
      "metadata": {
        "id": "42diewWQq4op"
      },
      "execution_count": 158,
      "outputs": []
    },
    {
      "cell_type": "code",
      "source": [
        "print(\"Effect Size:\", (samp_mean - hypo_mean)/samp_std)"
      ],
      "metadata": {
        "colab": {
          "base_uri": "https://localhost:8080/"
        },
        "id": "f3by1kYhq-HB",
        "outputId": "34d2dd13-c9f3-464f-d206-d49562b14d4a"
      },
      "execution_count": 159,
      "outputs": [
        {
          "output_type": "stream",
          "name": "stdout",
          "text": [
            "Effect Size: 0.5261336417646574\n"
          ]
        }
      ]
    },
    {
      "cell_type": "code",
      "source": [
        "power = power.zt_ind_solve_power(\n",
        "    effect_size=(samp_mean - hypo_mean)/samp_std,\n",
        "    nobs1=sample_size,\n",
        "    alpha=alpha,\n",
        "    ratio=0,\n",
        "    alternative='two-sided'\n",
        "    )\n"
      ],
      "metadata": {
        "id": "N8LgazI8OF69"
      },
      "execution_count": 160,
      "outputs": []
    },
    {
      "cell_type": "code",
      "source": [
        "power"
      ],
      "metadata": {
        "colab": {
          "base_uri": "https://localhost:8080/"
        },
        "id": "9CO0blt6PEjq",
        "outputId": "1702a85f-9177-4548-939a-229a3b088207"
      },
      "execution_count": 161,
      "outputs": [
        {
          "output_type": "execute_result",
          "data": {
            "text/plain": [
              "np.float64(0.8216812302268112)"
            ]
          },
          "metadata": {},
          "execution_count": 161
        }
      ]
    },
    {
      "cell_type": "code",
      "source": [
        "# Probability of making type 2 error:\n",
        "1 - power"
      ],
      "metadata": {
        "colab": {
          "base_uri": "https://localhost:8080/"
        },
        "id": "2ZOIpGZzOt8U",
        "outputId": "384af78c-d08d-41aa-f593-f54e33ba2b0b"
      },
      "execution_count": 162,
      "outputs": [
        {
          "output_type": "execute_result",
          "data": {
            "text/plain": [
              "np.float64(0.17831876977318883)"
            ]
          },
          "metadata": {},
          "execution_count": 162
        }
      ]
    },
    {
      "cell_type": "code",
      "source": [],
      "metadata": {
        "id": "sLUKWeRlPIT_"
      },
      "execution_count": 162,
      "outputs": []
    }
  ]
}