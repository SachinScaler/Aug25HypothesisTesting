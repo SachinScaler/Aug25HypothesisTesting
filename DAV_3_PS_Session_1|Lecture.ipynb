{
  "nbformat": 4,
  "nbformat_minor": 0,
  "metadata": {
    "colab": {
      "provenance": [],
      "authorship_tag": "ABX9TyMaNnHesgxxTMYsRVuqUWfm",
      "include_colab_link": true
    },
    "kernelspec": {
      "name": "python3",
      "display_name": "Python 3"
    },
    "language_info": {
      "name": "python"
    }
  },
  "cells": [
    {
      "cell_type": "markdown",
      "metadata": {
        "id": "view-in-github",
        "colab_type": "text"
      },
      "source": [
        "<a href=\"https://colab.research.google.com/github/SachinScaler/Aug25HypothesisTesting/blob/main/DAV_3_PS_Session_1%7CLecture.ipynb\" target=\"_parent\"><img src=\"https://colab.research.google.com/assets/colab-badge.svg\" alt=\"Open In Colab\"/></a>"
      ]
    },
    {
      "cell_type": "code",
      "execution_count": 29,
      "metadata": {
        "colab": {
          "base_uri": "https://localhost:8080/"
        },
        "id": "cF52dc3HeTqx",
        "outputId": "686a263e-124c-4243-9c88-2c2415e2c02f"
      },
      "outputs": [
        {
          "output_type": "execute_result",
          "data": {
            "text/plain": [
              "np.float64(2.3263478740408408)"
            ]
          },
          "metadata": {},
          "execution_count": 29
        }
      ],
      "source": [
        "import scipy.stats as stats\n",
        "\n",
        "# Given values\n",
        "confidence_level = 0.98\n",
        "mean_diameter = 5.0  # in cm\n",
        "std_deviation = 0.2  # in cm\n",
        "\n",
        "# Two-tailed test: we consider both ends of the distribution\n",
        "# To capture 98%, we exclude 1% on each tail → use 1 - (1 - confidence_level)/2\n",
        "\n",
        "critical_z = stats.norm.ppf(0.99)\n",
        "\n",
        "critical_z"
      ]
    },
    {
      "cell_type": "code",
      "source": [
        "# Calculate the critical value (upper bound)\n",
        "critical_value = (critical_z * std_deviation) + mean_diameter\n",
        "\n",
        "print(f\"Critical Upper Bound: {critical_value:.4f} cm\")"
      ],
      "metadata": {
        "colab": {
          "base_uri": "https://localhost:8080/"
        },
        "id": "-3hzufG8epz_",
        "outputId": "69de30a5-ddd6-42a9-87ef-8a8f14937ec6"
      },
      "execution_count": 30,
      "outputs": [
        {
          "output_type": "stream",
          "name": "stdout",
          "text": [
            "Critical Upper Bound: 5.4653 cm\n"
          ]
        }
      ]
    },
    {
      "cell_type": "code",
      "source": [
        "from scipy.stats import ttest_ind\n"
      ],
      "metadata": {
        "id": "mcMt5iCSHRKF"
      },
      "execution_count": 31,
      "outputs": []
    },
    {
      "cell_type": "code",
      "source": [
        "import numpy as np\n",
        "from scipy.stats import ttest_ind_from_stats\n",
        "\n",
        "# --- 1. Define the given data for both drugs ---\n",
        "# Data for the Existing Drug\n",
        "mean_existing = 35.4  # Mean reduction in LDL (mg/dL)\n",
        "std_existing = 4.2   # Standard deviation\n",
        "n_existing = 80      # Sample size\n",
        "\n",
        "# Data for the New Drug\n",
        "mean_new = 34.6  # Mean reduction in LDL (mg/dL)\n",
        "std_new = 4.0   # Standard deviation\n",
        "n_new = 75      # Sample size\n",
        "\n",
        "# Significance level (alpha) for the test\n",
        "alpha = 0.05\n",
        "\n",
        "# --- 2. Perform the two-sample t-test from summary statistics ---\n",
        "# We use ttest_ind_from_stats because we have the mean, standard deviation, and sample size,\n",
        "t_stat, p_value = ttest_ind_from_stats(\n",
        "    mean1 = mean_existing,\n",
        "    std1 = std_existing,\n",
        "    nobs1 = n_existing,\n",
        "    mean2 = mean_new,\n",
        "    std2 = std_new,\n",
        "    nobs2 = n_new,\n",
        ")\n",
        "\n",
        "# --- 3. Print the results ---\n",
        "print(\"--- Two-Sample T-Test for Bioequivalence ---\")\n",
        "print(f\"Existing Drug: Mean = {mean_existing}, Std Dev = {std_existing}, n = {n_existing}\")\n",
        "print(f\"New Drug:      Mean = {mean_new}, Std Dev = {std_new}, n = {n_new}\")\n",
        "print(\"\\nResults:\")\n",
        "print(f\"Calculated T-Statistic: {t_stat:.4f}\")\n",
        "print(f\"Calculated P-Value:     {p_value:.4f}\")\n",
        "print(f\"Significance Level (α): {alpha}\")\n",
        "\n",
        "# --- 4. Interpret the results ---\n",
        "print(\"\\nConclusion:\")\n",
        "if p_value < alpha:\n",
        "    print(\"we reject the null hypothesis.\")\n",
        "    print(\"There is a statistically significant difference between the mean LDL reduction of the two drugs.\")\n",
        "else:\n",
        "    print(\"we fail to reject the null hypothesis.\")\n",
        "    print(\"There is no statistically significant difference between the mean LDL reduction of the two drugs.\")"
      ],
      "metadata": {
        "colab": {
          "base_uri": "https://localhost:8080/"
        },
        "id": "dV8LxQjUe-lR",
        "outputId": "535cb4f2-03a5-40b7-ed54-7e1c384ca788"
      },
      "execution_count": 32,
      "outputs": [
        {
          "output_type": "stream",
          "name": "stdout",
          "text": [
            "--- Two-Sample T-Test for Bioequivalence ---\n",
            "Existing Drug: Mean = 35.4, Std Dev = 4.2, n = 80\n",
            "New Drug:      Mean = 34.6, Std Dev = 4.0, n = 75\n",
            "\n",
            "Results:\n",
            "Calculated T-Statistic: 1.2127\n",
            "Calculated P-Value:     0.2271\n",
            "Significance Level (α): 0.05\n",
            "\n",
            "Conclusion:\n",
            "we fail to reject the null hypothesis.\n",
            "There is no statistically significant difference between the mean LDL reduction of the two drugs.\n"
          ]
        }
      ]
    },
    {
      "cell_type": "code",
      "source": [
        "import scipy.stats as stats\n",
        "import numpy as np\n",
        "\n",
        "# Given data\n",
        "mean1 = 35.4  # Existing Drug\n",
        "std1 = 4.2\n",
        "n1 = 80\n",
        "\n",
        "mean2 = 34.6  # New Drug\n",
        "std2 = 4.0\n",
        "n2 = 75\n",
        "\n",
        "alpha = 0.05\n",
        "\n",
        "# Standard Error\n",
        "se = np.sqrt((std1**2)/n1 + (std2**2)/n2)\n",
        "\n",
        "# Z-score\n",
        "z = (mean1 - mean2) / se\n",
        "\n",
        "# p-value for two-tailed test\n",
        "p_value = 2 * (1 - stats.norm.cdf(abs(z)))\n",
        "\n",
        "print(f\"Z-score: {z:.4f}\")\n",
        "print(f\"p-value: {p_value:.4f}\")"
      ],
      "metadata": {
        "colab": {
          "base_uri": "https://localhost:8080/"
        },
        "id": "RNCvXy12tRPg",
        "outputId": "901f921b-8346-4f5e-d13f-19b92e30383b"
      },
      "execution_count": 33,
      "outputs": [
        {
          "output_type": "stream",
          "name": "stdout",
          "text": [
            "Z-score: 1.2146\n",
            "p-value: 0.2245\n"
          ]
        }
      ]
    },
    {
      "cell_type": "code",
      "source": [
        "import numpy as np\n",
        "from scipy.stats import ttest_ind_from_stats\n",
        "\n",
        "# --- 1. Define the given data for both drugs ---\n",
        "# Data for the Existing Drug\n",
        "mean_existing = 7800  # Mean reduction in LDL (mg/dL)\n",
        "std_existing = 1200  # Standard deviation\n",
        "n_existing = 20      # Sample size\n",
        "\n",
        "# Data for the New Drug\n",
        "mean_new = 8100  # Mean reduction in LDL (mg/dL)\n",
        "std_new = 1250   # Standard deviation\n",
        "n_new = 20       # Sample size\n",
        "\n",
        "# Significance level (alpha) for the test\n",
        "alpha = 0.05\n",
        "\n",
        "# --- 2. Perform the two-sample t-test from summary statistics ---\n",
        "# We use ttest_ind_from_stats because we have the mean, standard deviation, and sample size,\n",
        "t_stat, p_value = ttest_ind_from_stats(\n",
        "    mean1 = mean_existing,\n",
        "    std1 = std_existing,\n",
        "    nobs1 = n_existing,\n",
        "    mean2 = mean_new,\n",
        "    std2 = std_new,\n",
        "    nobs2 = n_new,\n",
        ")\n",
        "\n",
        "# --- 3. Print the results ---\n",
        "print(\"--- Two-Sample T-Test for Phones ---\")\n",
        "\n",
        "print(\"\\nResults:\")\n",
        "print(f\"Calculated P-Value:     {p_value:.4f}\")\n",
        "print(f\"Significance Level (α): {alpha}\")\n",
        "\n",
        "# --- 4. Interpret the results ---\n",
        "print(\"\\nConclusion:\")\n",
        "if p_value < alpha:\n",
        "    print(\"we reject the null hypothesis.\")\n",
        "    print(\"There is statistically significant difference between Android and iPhone users' step counts.\")\n",
        "else:\n",
        "    print(\"we fail to reject the null hypothesis.\")\n",
        "    print(\"No statistically significant difference between Android and iPhone users' step count.\")"
      ],
      "metadata": {
        "colab": {
          "base_uri": "https://localhost:8080/"
        },
        "id": "RtnMuAKDrNEq",
        "outputId": "08d9bbd8-3dd7-42fe-f992-a71afd43e944"
      },
      "execution_count": 34,
      "outputs": [
        {
          "output_type": "stream",
          "name": "stdout",
          "text": [
            "--- Two-Sample T-Test for Phones ---\n",
            "\n",
            "Results:\n",
            "Calculated P-Value:     0.4436\n",
            "Significance Level (α): 0.05\n",
            "\n",
            "Conclusion:\n",
            "we fail to reject the null hypothesis.\n",
            "No statistically significant difference between Android and iPhone users' step count.\n"
          ]
        }
      ]
    },
    {
      "cell_type": "code",
      "source": [
        "import statsmodels.api as sm\n",
        "\n",
        "# Successes and observations\n",
        "success = [310, 270]  # Opens\n",
        "nobs = [1000, 900]    # Total emails sent\n",
        "\n",
        "# alternative: smaller since b is first proportion as per order\n",
        "# success = [270, 310]  # Opens\n",
        "# nobs = [900, 1000]\n",
        "\n",
        "# Perform two-proportion z-test\n",
        "z_stat, p_value = sm.stats.proportions_ztest(count=success, nobs=nobs, alternative='larger')\n",
        "\n",
        "print(f\"Z-statistic: {z_stat:.4f}\")\n",
        "print(f\"p-value: {p_value:.4f}\")\n",
        "alpha = 0.05\n",
        "\n",
        "# Conclusion\n",
        "if p_value < alpha:\n",
        "   print(\"Reject the null hypothesis.There is significant evidence that Subject Line A open rates are efficient than Subject line B\")\n",
        "else:\n",
        "   print(\"Fail to reject the null hypothesis. No statistically significant evidence that Subject Line A open rates are efficient than Subject line B\")"
      ],
      "metadata": {
        "colab": {
          "base_uri": "https://localhost:8080/"
        },
        "id": "MJI4Nm8wrhif",
        "outputId": "27cf4e96-0744-4a4a-aa7b-a5b1c52c14d7"
      },
      "execution_count": 39,
      "outputs": [
        {
          "output_type": "stream",
          "name": "stdout",
          "text": [
            "Z-statistic: 0.4726\n",
            "p-value: 0.3182\n",
            "Fail to reject the null hypothesis. No statistically significant evidence that Subject Line A open rates are efficient than Subject line B\n"
          ]
        }
      ]
    },
    {
      "cell_type": "code",
      "source": [
        "import scipy.stats as stats\n",
        "import numpy as np\n",
        "\n",
        "# Given data\n",
        "before_scores = np.array([58, 62, 64, 54, 55, 59, 60, 63, 55, 56, 62, 61, 59, 64, 58, 57, 60, 63, 58, 59])\n",
        "after_scores = np.array([63, 67, 68, 57, 60, 64, 61, 66, 58, 59, 64, 63, 60, 67, 61, 60, 62, 65, 60, 61])\n",
        "\n",
        "# Perform paired t-test\n",
        "t_stat, p_value = stats.ttest_rel( after_scores, before_scores, alternative='greater') # after > before\n",
        "\n",
        "print(f\"p-value: {p_value}\")\n",
        "\n",
        "alpha = 0.05\n",
        "\n",
        "# Conclusion\n",
        "if p_value < alpha:\n",
        "   print(\"Reject the null hypothesis. There is significant improvement in memory scores after the cognitive training program.\")\n",
        "else:\n",
        "   print(\"Fail to reject the null hypothesis. No significant improvement in memory scores after the cognitive training program.\")"
      ],
      "metadata": {
        "colab": {
          "base_uri": "https://localhost:8080/"
        },
        "id": "z_b1qBHRt1rq",
        "outputId": "2430619c-4713-486e-ca03-cc1cbd8369a7"
      },
      "execution_count": 43,
      "outputs": [
        {
          "output_type": "stream",
          "name": "stdout",
          "text": [
            "p-value: 1.5394510318795526e-09\n",
            "Reject the null hypothesis. There is significant improvement in memory scores after the cognitive training program.\n"
          ]
        }
      ]
    },
    {
      "cell_type": "code",
      "source": [
        "import scipy.stats as stats\n",
        "import numpy as np\n",
        "\n",
        "# Observed data from the table\n",
        "observed = np.array([[80, 40],\n",
        "                    [100, 50],\n",
        "                    [50, 30],\n",
        "                    [30, 20]])\n",
        "\n",
        "# Perform Chi-Square Test of Independence\n",
        "chi2_stat, p_value, dof, expected = stats.chi2_contingency(observed)\n",
        "\n",
        "print(f\"Degrees of freedom: {dof}\")"
      ],
      "metadata": {
        "colab": {
          "base_uri": "https://localhost:8080/"
        },
        "id": "HgLHHqJyuSje",
        "outputId": "a5937084-0b51-4053-e9d6-18ec59d61709"
      },
      "execution_count": 44,
      "outputs": [
        {
          "output_type": "stream",
          "name": "stdout",
          "text": [
            "Degrees of freedom: 3\n"
          ]
        }
      ]
    },
    {
      "cell_type": "code",
      "source": [
        "import scipy.stats as stats\n",
        "import numpy as np\n",
        "\n",
        "# Given data\n",
        "observed = np.array([190, 210, 195, 230, 175])  # Actual sales\n",
        "expected = np.array([200, 200, 200, 200, 200])  # Expected sales\n",
        "\n",
        "# Perform Chi-squared Goodness of Fit test\n",
        "chi2_stat, p_value = stats.chisquare(observed, expected)\n",
        "\n",
        "print(f\"Chi-squared statistic: {chi2_stat:.4f}\")\n",
        "print(f\"p-value: {p_value:.4f}\")\n",
        "\n",
        "alpha = 0.10\n",
        "\n",
        "# Conclusion\n",
        "if p_value < alpha:\n",
        "   print(\"Reject the null hypothesis.There is statistically significant evidence to suggest that the actual sales differ from the expected uniform distribution.\")\n",
        "else:\n",
        "   print(\"Fail to reject the null hypothesis. No statistically significant evidence to suggest that the actual sales differ from the expected uniform distribution.\")"
      ],
      "metadata": {
        "colab": {
          "base_uri": "https://localhost:8080/"
        },
        "id": "E4_VeeH6u__i",
        "outputId": "5c5378c5-2a46-4827-f6f8-1071cb6ed1a3"
      },
      "execution_count": 45,
      "outputs": [
        {
          "output_type": "stream",
          "name": "stdout",
          "text": [
            "Chi-squared statistic: 8.7500\n",
            "p-value: 0.0677\n",
            "Reject the null hypothesis.There is statistically significant evidence to suggest that the actual sales differ from the expected uniform distribution.\n"
          ]
        }
      ]
    },
    {
      "cell_type": "code",
      "source": [
        "import scipy.stats as stats\n",
        "import numpy as np\n",
        "\n",
        "# Observed data from the table\n",
        "observed = np.array([[100, 50, 30],\n",
        "                    [90, 60, 20],\n",
        "                    [60, 40, 50]])\n",
        "\n",
        "# Perform Chi-Square Test of Independence\n",
        "chi2_stat, p_value, dof, expected = stats.chi2_contingency(observed)\n",
        "\n",
        "print(f\"Chi-squared statistic: {chi2_stat:.4f}\")\n",
        "print(f\"p-value: {p_value}\")\n",
        "\n",
        "alpha = 0.05\n",
        "\n",
        "# Conclusion\n",
        "if p_value < alpha:\n",
        "   print(\"Reject the null hypothesis. There is statistically significant evidence to suggest that product preference is dependent on age group.\")\n",
        "else:\n",
        "   print(\"Fail to reject the null hypothesis. Nostatistically significant evidence to suggest that product preference is dependent on age group.\")"
      ],
      "metadata": {
        "colab": {
          "base_uri": "https://localhost:8080/"
        },
        "id": "ozNBuCLOvwm7",
        "outputId": "ae6aabc5-229f-4c38-8f4f-89a787151d83"
      },
      "execution_count": 46,
      "outputs": [
        {
          "output_type": "stream",
          "name": "stdout",
          "text": [
            "Chi-squared statistic: 26.9434\n",
            "p-value: 2.0410030386493665e-05\n",
            "Reject the null hypothesis. There is statistically significant evidence to suggest that product preference is dependent on age group.\n"
          ]
        }
      ]
    },
    {
      "cell_type": "code",
      "source": [],
      "metadata": {
        "id": "0fsrox_awOHx"
      },
      "execution_count": null,
      "outputs": []
    }
  ]
}